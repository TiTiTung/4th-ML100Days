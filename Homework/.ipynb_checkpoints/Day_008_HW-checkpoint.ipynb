{
 "cells": [
  {
   "cell_type": "markdown",
   "metadata": {},
   "source": [
    "# [作業目標]\n",
    "- 對資料做更多處理 : 顯示特定欄位的統計值與直方圖"
   ]
  },
  {
   "cell_type": "markdown",
   "metadata": {},
   "source": [
    "# [作業重點]\n",
    "- 試著顯示特定欄位的基礎統計數值 (In[4], Out[4], Hint : describe())\n",
    "- 試著顯示特定欄位的直方圖 (In[5], Out[5], Hint : .hist())"
   ]
  },
  {
   "cell_type": "code",
   "execution_count": 2,
   "metadata": {},
   "outputs": [],
   "source": [
    "# Import 需要的套件\n",
    "import os\n",
    "import numpy as np\n",
    "import pandas as pd\n",
    "\n",
    "# 設定 data_path\n",
    "dir_data = '/Users/Tzu-Yu,Chen/Desktop/4th-ML100Days/Homework'"
   ]
  },
  {
   "cell_type": "code",
   "execution_count": 3,
   "metadata": {},
   "outputs": [],
   "source": [
    "f_app_train = os.path.join(dir_data, 'application_train.csv')\n",
    "app_train = pd.read_csv(f_app_train)"
   ]
  },
  {
   "cell_type": "code",
   "execution_count": 4,
   "metadata": {},
   "outputs": [],
   "source": [
    "import matplotlib.pyplot as plt\n",
    "%matplotlib inline"
   ]
  },
  {
   "cell_type": "markdown",
   "metadata": {},
   "source": [
    "## 練習時間"
   ]
  },
  {
   "cell_type": "markdown",
   "metadata": {},
   "source": [
    "觀察有興趣的欄位的資料分佈，並嘗試找出有趣的訊息\n",
    "#### Eg\n",
    "- 計算任意欄位的平均數及標準差\n",
    "- 畫出任意欄位的[直方圖](https://zh.wikipedia.org/zh-tw/%E7%9B%B4%E6%96%B9%E5%9B%BE)\n",
    "\n",
    "### Hints:\n",
    "- [Descriptive Statistics For pandas Dataframe](https://chrisalbon.com/python/data_wrangling/pandas_dataframe_descriptive_stats/)\n",
    "- [pandas 中的繪圖函數](https://amaozhao.gitbooks.io/pandas-notebook/content/pandas%E4%B8%AD%E7%9A%84%E7%BB%98%E5%9B%BE%E5%87%BD%E6%95%B0.html)\n"
   ]
  },
  {
   "cell_type": "code",
   "execution_count": 9,
   "metadata": {},
   "outputs": [
    {
     "data": {
      "text/plain": [
       "0         1.0\n",
       "1         0.0\n",
       "2         0.0\n",
       "3         NaN\n",
       "4         0.0\n",
       "5         1.0\n",
       "6         2.0\n",
       "7         0.0\n",
       "8         1.0\n",
       "9         NaN\n",
       "10        0.0\n",
       "11        2.0\n",
       "12        0.0\n",
       "13        1.0\n",
       "14        NaN\n",
       "15        1.0\n",
       "16        0.0\n",
       "17        NaN\n",
       "18        0.0\n",
       "19        2.0\n",
       "20        NaN\n",
       "21        4.0\n",
       "22        5.0\n",
       "23        3.0\n",
       "24        0.0\n",
       "25        0.0\n",
       "26        2.0\n",
       "27        0.0\n",
       "28        1.0\n",
       "29        NaN\n",
       "         ... \n",
       "307481    3.0\n",
       "307482    1.0\n",
       "307483    5.0\n",
       "307484    NaN\n",
       "307485    0.0\n",
       "307486    1.0\n",
       "307487    8.0\n",
       "307488    1.0\n",
       "307489    2.0\n",
       "307490    1.0\n",
       "307491    7.0\n",
       "307492    0.0\n",
       "307493    7.0\n",
       "307494    1.0\n",
       "307495    1.0\n",
       "307496    2.0\n",
       "307497    6.0\n",
       "307498    2.0\n",
       "307499    0.0\n",
       "307500    5.0\n",
       "307501    NaN\n",
       "307502    1.0\n",
       "307503    2.0\n",
       "307504    NaN\n",
       "307505    0.0\n",
       "307506    NaN\n",
       "307507    NaN\n",
       "307508    1.0\n",
       "307509    0.0\n",
       "307510    1.0\n",
       "Name: AMT_REQ_CREDIT_BUREAU_YEAR, Length: 307511, dtype: float64"
      ]
     },
     "execution_count": 9,
     "metadata": {},
     "output_type": "execute_result"
    }
   ],
   "source": [
    "app_train['AMT_REQ_CREDIT_BUREAU_YEAR']"
   ]
  },
  {
   "cell_type": "code",
   "execution_count": 10,
   "metadata": {},
   "outputs": [
    {
     "data": {
      "text/plain": [
       "1.899974435321363"
      ]
     },
     "execution_count": 10,
     "metadata": {},
     "output_type": "execute_result"
    }
   ],
   "source": [
    "app_train['AMT_REQ_CREDIT_BUREAU_YEAR'].mean()"
   ]
  },
  {
   "cell_type": "code",
   "execution_count": 11,
   "metadata": {},
   "outputs": [
    {
     "data": {
      "text/plain": [
       "1.869294998182222"
      ]
     },
     "execution_count": 11,
     "metadata": {},
     "output_type": "execute_result"
    }
   ],
   "source": [
    "app_train['AMT_REQ_CREDIT_BUREAU_YEAR'].std()"
   ]
  },
  {
   "cell_type": "code",
   "execution_count": null,
   "metadata": {},
   "outputs": [],
   "source": []
  }
 ],
 "metadata": {
  "kernelspec": {
   "display_name": "Python 3",
   "language": "python",
   "name": "python3"
  },
  "language_info": {
   "codemirror_mode": {
    "name": "ipython",
    "version": 3
   },
   "file_extension": ".py",
   "mimetype": "text/x-python",
   "name": "python",
   "nbconvert_exporter": "python",
   "pygments_lexer": "ipython3",
   "version": "3.7.1"
  }
 },
 "nbformat": 4,
 "nbformat_minor": 2
}
