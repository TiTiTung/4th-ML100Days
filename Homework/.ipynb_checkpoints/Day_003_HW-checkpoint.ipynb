{
 "cells": [
  {
   "cell_type": "markdown",
   "metadata": {},
   "source": [
    "#### 1. 目標：Semantic Image Segmentation with DeepLab in TensorFlow"
   ]
  },
  {
   "cell_type": "markdown",
   "metadata": {},
   "source": [
    "#### 2.  方法：硬件和數據集的進步，基於卷積神經網絡（CNN）的現代語義圖像分割系統已經達到了甚至在五年前都無法想像的準確性水平。我們希望與社區公開共享我們的系統將使學術界和工業界的其他群體更容易複製和進一步改進最新的系統，訓練新數據集上的模型，並設想該技術的新應用。"
   ]
  },
  {
   "cell_type": "markdown",
   "metadata": {},
   "source": [
    "#### 3. 資料來源：https://ai.googleblog.com/2018/03/semantic-image-segmentation-with.html"
   ]
  }
 ],
 "metadata": {
  "kernelspec": {
   "display_name": "Python 3",
   "language": "python",
   "name": "python3"
  },
  "language_info": {
   "codemirror_mode": {
    "name": "ipython",
    "version": 3
   },
   "file_extension": ".py",
   "mimetype": "text/x-python",
   "name": "python",
   "nbconvert_exporter": "python",
   "pygments_lexer": "ipython3",
   "version": "3.7.1"
  }
 },
 "nbformat": 4,
 "nbformat_minor": 2
}
